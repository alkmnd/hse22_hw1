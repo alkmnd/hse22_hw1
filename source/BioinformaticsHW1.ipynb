{
  "nbformat": 4,
  "nbformat_minor": 0,
  "metadata": {
    "colab": {
      "provenance": []
    },
    "kernelspec": {
      "name": "python3",
      "display_name": "Python 3"
    },
    "language_info": {
      "name": "python"
    }
  },
  "cells": [
    {
      "cell_type": "markdown",
      "source": [
        "# Homework 1\n",
        "# Belova Natalya"
      ],
      "metadata": {
        "id": "-xTdOitT5BpG"
      }
    },
    {
      "cell_type": "code",
      "execution_count": 1,
      "metadata": {
        "id": "Z7vd7YgP3A85"
      },
      "outputs": [],
      "source": [
        "# Импорт библиотек.\n",
        "import re"
      ]
    },
    {
      "cell_type": "code",
      "source": [
        "# Получение ответа.\n",
        "def get_answer(f, text, output = True):\n",
        "    lengths = []\n",
        "    cnt = 0\n",
        "    max_length = 0\n",
        "    length = 0\n",
        "    score = 0\n",
        "    total_length = 0\n",
        "    max_sequence = ''\n",
        "    curr = ''\n",
        "    for line in f:\n",
        "        if (line[0] == '>'):\n",
        "            if cnt != 0:\n",
        "                lengths.append(length)\n",
        "            cnt += 1\n",
        "            if length >= max_length:\n",
        "                max_length = length\n",
        "                max_sequence = curr\n",
        "            curr = ''\n",
        "            length = 0\n",
        "        else:\n",
        "            curr += line.strip()\n",
        "            length += len(line.strip())\n",
        "            total_length += len(line.strip())\n",
        "     \n",
        "    lengths.sort(reverse = True) \n",
        "    for i in lengths:\n",
        "        score += i\n",
        "        if score >= total_length / 2:\n",
        "            if output == True:\n",
        "                print(f'анализ {text}\\n\\\n",
        "oбщее количество: {cnt},\\n\\\n",
        "oбщая длина: {total_length},\\n\\\n",
        "длина самого длинного: {max_length},\\n\\\n",
        "N50: {i}\\n')\n",
        "            break\n",
        "    return max_sequence"
      ],
      "metadata": {
        "id": "RnGEhqzX-BeK"
      },
      "execution_count": 2,
      "outputs": []
    },
    {
      "cell_type": "code",
      "source": [
        "# Анализ контигов.\n",
        "max_cont = get_answer(open('Poil_contig.fa', 'r'), 'контигов')\n"
      ],
      "metadata": {
        "colab": {
          "base_uri": "https://localhost:8080/"
        },
        "id": "ltxbpfm1FDaD",
        "outputId": "52fad1a5-92ca-4b55-f3c8-4eef7b70ee49"
      },
      "execution_count": 4,
      "outputs": [
        {
          "output_type": "stream",
          "name": "stdout",
          "text": [
            "Анализ Контигов\n",
            "oбщее количество: 621,\n",
            "oбщая длина: 3926164,\n",
            "длина самого длинного: 179307,\n",
            "N50: 48055\n",
            "\n"
          ]
        }
      ]
    },
    {
      "cell_type": "code",
      "source": [
        "# Анализ скаффолдов.\n",
        "max_scaf = get_answer( open('Poil_scaffold.fa', 'r'), 'скаффолдов')"
      ],
      "metadata": {
        "colab": {
          "base_uri": "https://localhost:8080/"
        },
        "id": "TCuTT3ZPImOQ",
        "outputId": "3ed3b853-085d-4f5b-a2d8-1792f3866cfc"
      },
      "execution_count": 5,
      "outputs": [
        {
          "output_type": "stream",
          "name": "stdout",
          "text": [
            "Анализ скаффолдов\n",
            "oбщее количество: 67,\n",
            "oбщая длина: 3874413,\n",
            "длина самого длинного: 3838390,\n",
            "N50: 3838390\n",
            "\n"
          ]
        }
      ]
    },
    {
      "cell_type": "code",
      "source": [
        "# Подсчитаем гэпы для необрезанный чтений.\n",
        "print(f'Общая длина гэпов: {max_scaf.count(\"N\")}')\n",
        "max_scaf = re.sub(r'N{2,}', 'N', max_scaf)\n",
        "print(f'Число гэпов: {max_scaf.count(\"N\")}')"
      ],
      "metadata": {
        "colab": {
          "base_uri": "https://localhost:8080/"
        },
        "id": "O4uo9NLmJH1v",
        "outputId": "9ff9d11c-fe12-4cc6-8239-d7c5cca3315b"
      },
      "execution_count": 6,
      "outputs": [
        {
          "output_type": "stream",
          "name": "stdout",
          "text": [
            "Общая длина гэпов: 6329\n",
            "Число гэпов: 63\n"
          ]
        }
      ]
    },
    {
      "cell_type": "code",
      "source": [
        "max_scaf = get_answer(open('Poil_gapClosed.fa', 'r'), 'cкаффолдов', False)"
      ],
      "metadata": {
        "id": "NhP78-tqJmFP"
      },
      "execution_count": 8,
      "outputs": []
    },
    {
      "cell_type": "code",
      "source": [
        "# Гэпы для обрезанных чтений:\n",
        "print(f'Общая длина гэпов для обрезанных чтений: {max_scaf.count(\"N\")}')\n",
        "max_scaf = re.sub(r'N{2,}', 'N', max_scaf)\n",
        "print(f'Число гэпов для обрезанных чтений: {max_scaf.count(\"N\")}')"
      ],
      "metadata": {
        "colab": {
          "base_uri": "https://localhost:8080/"
        },
        "id": "oS4z_5KWJsJ9",
        "outputId": "b3bf3b4d-46c1-4b9f-92d5-f1d963dda6c3"
      },
      "execution_count": 9,
      "outputs": [
        {
          "output_type": "stream",
          "name": "stdout",
          "text": [
            "Общая длина гэпов для обрезанных чтений: 1729\n",
            "Число гэпов для обрезанных чтений: 9\n"
          ]
        }
      ]
    }
  ]
}